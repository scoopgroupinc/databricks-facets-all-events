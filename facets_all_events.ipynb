# facets_all_events
# in databricks workspace at
# https://dbc-cb920353-952e.cloud.databricks.com/?o=1739576370526431#notebook/267197804490370/command/267197804490371
# for
# https://devpost.com/software/facets-dating-profile-feedback

# pip install to be set in the first line.
%pip install git+https://github.com/databrickslabs/dbldatagen@current

import dbldatagen as dg
from pyspark.sql.types import IntegerType, StringType, FloatType
from pyspark.sql.functions import current_date, current_timestamp
from pyspark.sql import functions as F
from pyspark.sql.functions import monotonically_increasing_id

#Drop existing and Create Delta table structure
shuffle_partitions_requested = 1
partitions_requested = 1
data_rows = 1000000

spark.sql(""" drop table if exists facets.__segment_reverse_etl.facets_events""")
spark.sql("""Create table if not exists facets.__segment_reverse_etl.facets_events(
                seqno string,
                time timestamp ,
                distinctid string,
                event string, 
                city string,
                country string,
                oper_system string 
              ) using Delta""")

table_schema = spark.table("facets.__segment_reverse_etl.facets_events").schema
print(table_schema)

#Sample data for: Complete journey, downlowd ios
for i in range(1,500):
  EVENT = ['Viewed Request Feedback','Button - Accept - Feedback','Viewed Shared Profile View','Button - Shared Profile View - Continue','Viewed First Impression','Button - Selected Impressions','Viewed Go Deeper','Toggle - Allow conversation','Button - Submited Feedback','Button - Feedback - Download iOS']
  CITY = ['San Francisco']
  COUNTRY = ['US']
  OS = ['Windows']
  USER = [i]
  STARTING_DATETIME="2023-12-02 01:00:00"
  END_DATETIME="2023-12-02 18:00:00"
  EVENT_INTERVAL = "0.5 seconds"

  userevent_defn = (dg.DataGenerator(spark, name="facets_dataset", rows=11)
                 .withColumn("user", "int", values= USER , omit=True )
                 .withColumn("seqno","string", prefix= monotonically_increasing_id(), baseColumn="user")   
                 .withColumn("distinctid", "string", prefix="$device:842c200a-60b8-4d62-918e",  baseColumn="user")
                 .withColumn("event", "string", values=EVENT)
                 .withColumn("city", "string", values=CITY)
                 .withColumn("country", "string", values=COUNTRY)
                 .withColumn("oper_system", "string", values=OS)
                 .withColumn("time", "timestamp",
                 begin=STARTING_DATETIME,
                 end=END_DATETIME,
                 interval=EVENT_INTERVAL)
                 )
  df = userevent_defn.build()
  df.write.format("delta").mode("append").saveAsTable('facets.__segment_reverse_etl.facets_events')


#Sample data for: Complete journey, website
for i in range(1,100):
  EVENT = ['Viewed Request Feedback','Button - Accept - Feedback','Viewed Shared Profile View','Button - Shared Profile View - Continue','Viewed First Impression','Button - Selected Impressions','Viewed Go Deeper','Toggle - Allow conversation','Button - Submited Feedback','Button - Feedback - Website']
  CITY = ['Sacramento']
  COUNTRY = ['US']
  OS = ['Mac']
  USER = [i]
  STARTING_DATETIME="2023-12-01 01:00:00"
  END_DATETIME="2023-12-01 18:00:00"
  EVENT_INTERVAL = "0.5 seconds"

  userevent_defn = (dg.DataGenerator(spark, name="facets_dataset", rows=11)
                 .withColumn("user", "int", values= USER , omit=True )
                 .withColumn("seqno","string", prefix= monotonically_increasing_id(), baseColumn="user")   
                 .withColumn("distinctid", "string", prefix="$device:842c200a-60b8-4d62-918e",  baseColumn="user")
                 .withColumn("event", "string", values=EVENT)
                 .withColumn("city", "string", values=CITY)
                 .withColumn("country", "string", values=COUNTRY)
                 .withColumn("oper_system", "string", values=OS)
                 .withColumn("time", "timestamp",
                 begin=STARTING_DATETIME,
                 end=END_DATETIME,
                 interval=EVENT_INTERVAL)
                 )
  df = userevent_defn.build()
  df.write.format("delta").mode("append").saveAsTable('facets.__segment_reverse_etl.facets_events')


  #Sample data for: Decline journey - City Sacramento
for i in range(1,50):
  EVENT = ['Viewed Request Feedback','Button - Decline - Feedback']
  CITY = ['Sacramento']
  COUNTRY = ['US']
  OS = ['Mac']
  USER = [i]
  STARTING_DATETIME="2023-12-03 01:00:00"
  END_DATETIME="2023-12-03 18:00:00"
  EVENT_INTERVAL = "0.5 seconds"

  userevent_defn = (dg.DataGenerator(spark, name="facets_dataset", rows=11)
                 .withColumn("user", "int", values= USER , omit=True )
                 .withColumn("seqno","string", prefix= monotonically_increasing_id(), baseColumn="user")   
                 .withColumn("distinctid", "string", prefix="$device:842c200a-60b8-4d62-918e",  baseColumn="user")
                 .withColumn("event", "string", values=EVENT)
                 .withColumn("city", "string", values=CITY)
                 .withColumn("country", "string", values=COUNTRY)
                 .withColumn("oper_system", "string", values=OS)
                 .withColumn("time", "timestamp",
                 begin=STARTING_DATETIME,
                 end=END_DATETIME,
                 interval=EVENT_INTERVAL)
                 )
  df = userevent_defn.build()
  df.write.format("delta").mode("append").saveAsTable('facets.__segment_reverse_etl.facets_events')


    #Sample data for: Decline journey - City SFO
for i in range(1,100):
  EVENT = ['Viewed Request Feedback','Button - Decline - Feedback']
  CITY = ['San Francisco']
  COUNTRY = ['US']
  OS = ['Windows']
  USER = [i]
  STARTING_DATETIME="2023-12-01 01:00:00"
  END_DATETIME="2023-12-01 18:00:00"
  EVENT_INTERVAL = "0.5 seconds"

  userevent_defn = (dg.DataGenerator(spark, name="facets_dataset", rows=11)
                 .withColumn("user", "int", values= USER , omit=True )
                 .withColumn("seqno","string", prefix= monotonically_increasing_id(), baseColumn="user")   
                 .withColumn("distinctid", "string", prefix="$device:842c200a-60b8-4d62-918e",  baseColumn="user")
                 .withColumn("event", "string", values=EVENT)
                 .withColumn("city", "string", values=CITY)
                 .withColumn("country", "string", values=COUNTRY)
                 .withColumn("oper_system", "string", values=OS)
                 .withColumn("time", "timestamp",
                 begin=STARTING_DATETIME,
                 end=END_DATETIME,
                 interval=EVENT_INTERVAL)
                 )
  df = userevent_defn.build()
  df.write.format("delta").mode("append").saveAsTable('facets.__segment_reverse_etl.facets_events')
